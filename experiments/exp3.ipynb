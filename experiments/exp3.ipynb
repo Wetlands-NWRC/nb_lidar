{
 "cells": [
  {
   "cell_type": "code",
   "execution_count": 1,
   "metadata": {},
   "outputs": [],
   "source": [
    "import ee\n",
    "import geemap\n"
   ]
  },
  {
   "cell_type": "code",
   "execution_count": 2,
   "metadata": {},
   "outputs": [
    {
     "data": {
      "text/html": [
       "\n",
       "            <style>\n",
       "                .geemap-dark {\n",
       "                    --jp-widgets-color: white;\n",
       "                    --jp-widgets-label-color: white;\n",
       "                    --jp-ui-font-color1: white;\n",
       "                    --jp-layout-color2: #454545;\n",
       "                    background-color: #383838;\n",
       "                }\n",
       "\n",
       "                .geemap-dark .jupyter-button {\n",
       "                    --jp-layout-color3: #383838;\n",
       "                }\n",
       "\n",
       "                .geemap-colab {\n",
       "                    background-color: var(--colab-primary-surface-color, white);\n",
       "                }\n",
       "\n",
       "                .geemap-colab .jupyter-button {\n",
       "                    --jp-layout-color3: var(--colab-primary-surface-color, white);\n",
       "                }\n",
       "            </style>\n",
       "            "
      ],
      "text/plain": [
       "<IPython.core.display.HTML object>"
      ]
     },
     "metadata": {},
     "output_type": "display_data"
    }
   ],
   "source": [
    "ee.Initialize(project='nb-lidar')"
   ]
  },
  {
   "cell_type": "code",
   "execution_count": null,
   "metadata": {},
   "outputs": [],
   "source": [
    "class DataCube(ee.ImageCollection):\n",
    "    def __init__(self):\n",
    "        super().__init__(\"\")\n",
    "\n",
    "\n",
    "class Sentinel1(ee.ImageCollection):\n",
    "    def __init__(Self, args: list[str]):\n",
    "        super().__init__(args)\n",
    "\n",
    "    def applyEdgeMask(self):\n",
    "        return self.map(self.edge_mask)\n",
    "\n",
    "    @staticmethod\n",
    "    def edge_mask(image: ee.Image) -> ee.Image:\n",
    "        pass\n",
    "\n"
   ]
  },
  {
   "cell_type": "code",
   "execution_count": null,
   "metadata": {},
   "outputs": [],
   "source": [
    "from src.helpers.rsd import TerrrainProdcutLayersFactory\n",
    "from src.helpers.smoothening import make_boxcar\n",
    "\n",
    "s1_images = [\n",
    "    \n",
    "]\n",
    "\n",
    "def image_processing(aoi, terrain_type):\n",
    "    dc = DataCube().filterBounds(aoi).mosaic().select('')\n",
    "    s1 = Sentinel1(s1_images).filterBounds(aoi)\n",
    "    s1_es = s1.filterDate().applyEdgeMask().mosaic().convovle(make_boxcar()).select('V.*')\n",
    "    s1_ls = s1.filterDate().applyEdgeMask().mosaic().convovle(make_boxcar()).select('V.*')\n",
    "    ta = TerrrainProdcutLayersFactory().get_layer(terrain_type)\n",
    "    return ee.Image.cat(dc, s1_es, s1_ls, ta)"
   ]
  }
 ],
 "metadata": {
  "kernelspec": {
   "display_name": "Python 3",
   "language": "python",
   "name": "python3"
  },
  "language_info": {
   "codemirror_mode": {
    "name": "ipython",
    "version": 3
   },
   "file_extension": ".py",
   "mimetype": "text/x-python",
   "name": "python",
   "nbconvert_exporter": "python",
   "pygments_lexer": "ipython3",
   "version": "3.11.9"
  }
 },
 "nbformat": 4,
 "nbformat_minor": 2
}
