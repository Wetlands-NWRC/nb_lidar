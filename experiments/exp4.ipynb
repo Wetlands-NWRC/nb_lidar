{
 "cells": [
  {
   "cell_type": "markdown",
   "metadata": {},
   "source": [
    "# Experiment 4: Isolate and Classify Wetland only Pixels\n",
    "- New and Balanced dataset has needed to be created for this experiment.\n",
    "- The dataset is created by using the following classes:\n",
    "    - Wetland only training data\n",
    " \n",
    "Want to mask out any pixels in the stack that are note classified as wetland.\n",
    "The resulting image will be the one that the rf model is applied to.\n",
    "\n",
    "what we needs to be done before doing the experiment:\n",
    "- need the resulting classification from dtm classification from experiment 3\n",
    "- need to find out how to create a mask from the classification\n",
    "\n",
    "Workflow:\n",
    "- going to follow the same workflow as the previous experiments\n",
    "- the only difference is that the mask will be applied to the image stack before the rf model is used for prediction\n",
    "- something to try: mask the stack from the very beginning and see if the model can predict the wetland pixels\n",
    "\n",
    "```python\n",
    "land_cover_colors = {\n",
    "    \"Bog\": \"#8B4513\",          # Brown\n",
    "    \"Fen\": \"#808000\",          # Olive Green\n",
    "    \"Marsh\": \"#008000\",        # Medium Green\n",
    "    \"Salt marsh\": \"#9ACD32\",   # Yellow-Green\n",
    "    \"Shallow water\": \"#ADD8E6\",# Light Blue\n",
    "    \"Swamp\": \"#006400\"         # Dark Green\n",
    "}\n",
    "```"
   ]
  },
  {
   "cell_type": "code",
   "execution_count": null,
   "metadata": {},
   "outputs": [],
   "source": []
  }
 ],
 "metadata": {
  "language_info": {
   "name": "python"
  }
 },
 "nbformat": 4,
 "nbformat_minor": 2
}
