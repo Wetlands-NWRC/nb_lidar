{
 "cells": [
  {
   "cell_type": "code",
   "execution_count": 13,
   "metadata": {},
   "outputs": [],
   "source": [
    "import ee\n",
    "import geemap"
   ]
  },
  {
   "cell_type": "code",
   "execution_count": 2,
   "metadata": {},
   "outputs": [
    {
     "data": {
      "text/html": [
       "\n",
       "            <style>\n",
       "                .geemap-dark {\n",
       "                    --jp-widgets-color: white;\n",
       "                    --jp-widgets-label-color: white;\n",
       "                    --jp-ui-font-color1: white;\n",
       "                    --jp-layout-color2: #454545;\n",
       "                    background-color: #383838;\n",
       "                }\n",
       "\n",
       "                .geemap-dark .jupyter-button {\n",
       "                    --jp-layout-color3: #383838;\n",
       "                }\n",
       "\n",
       "                .geemap-colab {\n",
       "                    background-color: var(--colab-primary-surface-color, white);\n",
       "                }\n",
       "\n",
       "                .geemap-colab .jupyter-button {\n",
       "                    --jp-layout-color3: var(--colab-primary-surface-color, white);\n",
       "                }\n",
       "            </style>\n",
       "            "
      ],
      "text/plain": [
       "<IPython.core.display.HTML object>"
      ]
     },
     "metadata": {},
     "output_type": "display_data"
    }
   ],
   "source": [
    "ee.Initialize(project=\"nb-lidar\")"
   ]
  },
  {
   "cell_type": "code",
   "execution_count": 10,
   "metadata": {},
   "outputs": [],
   "source": [
    "aoi_id = \"projects/nb-lidar/assets/aoi_nb_south\""
   ]
  },
  {
   "cell_type": "code",
   "execution_count": 4,
   "metadata": {},
   "outputs": [
    {
     "data": {
      "text/html": [
       "\n",
       "            <style>\n",
       "                .geemap-dark {\n",
       "                    --jp-widgets-color: white;\n",
       "                    --jp-widgets-label-color: white;\n",
       "                    --jp-ui-font-color1: white;\n",
       "                    --jp-layout-color2: #454545;\n",
       "                    background-color: #383838;\n",
       "                }\n",
       "\n",
       "                .geemap-dark .jupyter-button {\n",
       "                    --jp-layout-color3: #383838;\n",
       "                }\n",
       "\n",
       "                .geemap-colab {\n",
       "                    background-color: var(--colab-primary-surface-color, white);\n",
       "                }\n",
       "\n",
       "                .geemap-colab .jupyter-button {\n",
       "                    --jp-layout-color3: var(--colab-primary-surface-color, white);\n",
       "                }\n",
       "            </style>\n",
       "            "
      ],
      "text/plain": [
       "<IPython.core.display.HTML object>"
      ]
     },
     "metadata": {},
     "output_type": "display_data"
    },
    {
     "name": "stdout",
     "output_type": "stream",
     "text": [
      "Exporting Features: projects/nb-lidar/assets/exp2/dsm_features\n",
      "Exporting Features: projects/nb-lidar/assets/exp2/dtm_features\n",
      "Exporting Features: projects/nb-lidar/assets/exp2/srtm_features\n"
     ]
    }
   ],
   "source": [
    "# extract and export features\n",
    "from src.features.build_features import build_elevation_features\n",
    "\n",
    "features = \"projects/nb-lidar/assets/nb_south_3_class_bal\"\n",
    "\n",
    "destination = \"projects/nb-lidar/assets/exp2/{type}_features\"\n",
    "\n",
    "dsm_features_id = destination.format(type=\"dsm\")\n",
    "dsm_features = build_elevation_features(\n",
    "    aoi_id=aoi_id, features_id=features, terrain_type=\"dsm\", dest_id=dsm_features_id\n",
    ")\n",
    "\n",
    "\n",
    "dtm_features_id = destination.format(type=\"dtm\")\n",
    "dtm_features = build_elevation_features(\n",
    "    aoi_id=aoi_id, features_id=features, terrain_type=\"dtm\", dest_id=dtm_features_id\n",
    ")\n",
    "\n",
    "\n",
    "srtm_features_id = destination.format(type=\"srtm\")\n",
    "srtm_features = build_elevation_features(\n",
    "    aoi_id=aoi_id, features_id=features, terrain_type=\"srtm\", dest_id=srtm_features_id\n",
    ")\n",
    "\n",
    "ee.Reset()"
   ]
  },
  {
   "cell_type": "code",
   "execution_count": 8,
   "metadata": {},
   "outputs": [
    {
     "data": {
      "text/html": [
       "\n",
       "            <style>\n",
       "                .geemap-dark {\n",
       "                    --jp-widgets-color: white;\n",
       "                    --jp-widgets-label-color: white;\n",
       "                    --jp-ui-font-color1: white;\n",
       "                    --jp-layout-color2: #454545;\n",
       "                    background-color: #383838;\n",
       "                }\n",
       "\n",
       "                .geemap-dark .jupyter-button {\n",
       "                    --jp-layout-color3: #383838;\n",
       "                }\n",
       "\n",
       "                .geemap-colab {\n",
       "                    background-color: var(--colab-primary-surface-color, white);\n",
       "                }\n",
       "\n",
       "                .geemap-colab .jupyter-button {\n",
       "                    --jp-layout-color3: var(--colab-primary-surface-color, white);\n",
       "                }\n",
       "            </style>\n",
       "            "
      ],
      "text/plain": [
       "<IPython.core.display.HTML object>"
      ]
     },
     "metadata": {},
     "output_type": "display_data"
    }
   ],
   "source": [
    "ee.Initialize(project=\"nb-lidar\")\n",
    "\n",
    "FOLDER_NAME = \"nb_lidar_exp2\"\n",
    "\n",
    "# build and assess models\n",
    "from src.models.train_and_assess import train_smile_random_forest_and_assess\n",
    "from src.utils.datautils import confusion_matrix_to_drive, monitor_task\n",
    "\n",
    "dsm_features = ee.FeatureCollection(dsm_features_id)\n",
    "dsm_rfm, dsm_cfm = train_smile_random_forest_and_assess(features=dsm_features)\n",
    "\n",
    "dtm_features = ee.FeatureCollection(dtm_features_id)\n",
    "dtm_rfm, dtm_cfm = train_smile_random_forest_and_assess(features=dtm_features)\n",
    "\n",
    "srtm_features = ee.FeatureCollection(srtm_features_id)\n",
    "srtm_rfm, srtm_cfm = train_smile_random_forest_and_assess(features=srtm_features)\n",
    "\n",
    "# format and export all confusion matrix\n",
    "filename = \"{name}_confusion_matrix\"\n",
    "\n",
    "dsm_cfm_name = filename.format(name=\"dsm\")\n",
    "confusion_matrix_to_drive(dsm_cfm, folder=FOLDER_NAME, name=dsm_cfm_name)\n",
    "\n",
    "dtm_cfm_name = filename.format(name=\"dtm\")\n",
    "confusion_matrix_to_drive(dtm_cfm, folder=FOLDER_NAME, name=dtm_cfm_name)\n",
    "\n",
    "srtm_cfm_name = filename.format(name=\"srtm\")\n",
    "confusion_matrix_to_drive(srtm_cfm, folder=FOLDER_NAME, name=srtm_cfm_name)\n",
    "\n",
    "\n",
    "# save rf models\n",
    "rf_model_fmt_id = \"projects/nb-lidar/assets/exp2/{name}_model\"\n",
    "\n",
    "dsm_model_id = rf_model_fmt_id.format(name=\"dsm\")\n",
    "task_1 = dsm_rfm.save(asset_id=dsm_model_id)\n",
    "monitor_task(task_1)\n",
    "\n",
    "dtm_model_id = rf_model_fmt_id.format(name=\"dtm\")\n",
    "task_2 = dtm_rfm.save(asset_id=dtm_model_id)\n",
    "monitor_task(task_1)\n",
    "\n",
    "\n",
    "srtm_model_id = rf_model_fmt_id.format(name=\"srtm\")\n",
    "task_3 = srtm_rfm.save(asset_id=srtm_model_id)\n",
    "monitor_task(task_3)\n",
    "ee.Reset()"
   ]
  },
  {
   "cell_type": "code",
   "execution_count": 18,
   "metadata": {},
   "outputs": [
    {
     "data": {
      "text/html": [
       "\n",
       "            <style>\n",
       "                .geemap-dark {\n",
       "                    --jp-widgets-color: white;\n",
       "                    --jp-widgets-label-color: white;\n",
       "                    --jp-ui-font-color1: white;\n",
       "                    --jp-layout-color2: #454545;\n",
       "                    background-color: #383838;\n",
       "                }\n",
       "\n",
       "                .geemap-dark .jupyter-button {\n",
       "                    --jp-layout-color3: #383838;\n",
       "                }\n",
       "\n",
       "                .geemap-colab {\n",
       "                    background-color: var(--colab-primary-surface-color, white);\n",
       "                }\n",
       "\n",
       "                .geemap-colab .jupyter-button {\n",
       "                    --jp-layout-color3: var(--colab-primary-surface-color, white);\n",
       "                }\n",
       "            </style>\n",
       "            "
      ],
      "text/plain": [
       "<IPython.core.display.HTML object>"
      ]
     },
     "metadata": {},
     "output_type": "display_data"
    }
   ],
   "source": [
    "# make predictions\n",
    "from src.models.predict_model import predict\n",
    "from src.utils.datautils import classification_to_cloud_stroage\n",
    "\n",
    "import ee\n",
    "from ee.data import listAssets\n",
    "\n",
    "assets = listAssets({\"parent\": \"projects/nb-lidar/assets/exp2\"})[\"assets\"]\n",
    "models = [_.get(\"id\") for _ in assets if _.get(\"id\").endswith(\"_model\")]\n",
    "\n",
    "dsm, dtm, srtm = models\n",
    "ee.Initialize(project=\"nb-lidar\")\n",
    "\n",
    "dsm_precition = predict(aoi_id=aoi_id, model_id=dsm, terrain_type=\"dsm\")\n",
    "dtm_precition = predict(aoi_id=aoi_id, model_id=dtm, terrain_type=\"dtm\")\n",
    "srtm_precition = predict(aoi_id=aoi_id, model_id=srtm, terrain_type=\"srtm\")"
   ]
  },
  {
   "cell_type": "code",
   "execution_count": 15,
   "metadata": {},
   "outputs": [
    {
     "data": {
      "text/html": [
       "\n",
       "            <style>\n",
       "                .geemap-dark {\n",
       "                    --jp-widgets-color: white;\n",
       "                    --jp-widgets-label-color: white;\n",
       "                    --jp-ui-font-color1: white;\n",
       "                    --jp-layout-color2: #454545;\n",
       "                    background-color: #383838;\n",
       "                }\n",
       "\n",
       "                .geemap-dark .jupyter-button {\n",
       "                    --jp-layout-color3: #383838;\n",
       "                }\n",
       "\n",
       "                .geemap-colab {\n",
       "                    background-color: var(--colab-primary-surface-color, white);\n",
       "                }\n",
       "\n",
       "                .geemap-colab .jupyter-button {\n",
       "                    --jp-layout-color3: var(--colab-primary-surface-color, white);\n",
       "                }\n",
       "            </style>\n",
       "            "
      ],
      "text/plain": [
       "<IPython.core.display.HTML object>"
      ]
     },
     "metadata": {},
     "output_type": "display_data"
    },
    {
     "data": {
      "application/vnd.jupyter.widget-view+json": {
       "model_id": "fa5f6e8d16bc4d75b07c9c94a1b45b43",
       "version_major": 2,
       "version_minor": 0
      },
      "text/plain": [
       "Map(center=[45.74809742262684, -65.99999969409251], controls=(WidgetControl(options=['position', 'transparent_…"
      ]
     },
     "execution_count": 15,
     "metadata": {},
     "output_type": "execute_result"
    }
   ],
   "source": [
    "Map = geemap.Map()\n",
    "aoi = ee.FeatureCollection(aoi_id).geometry()\n",
    "vis = {\"min\": 1, \"max\": 3}\n",
    "\n",
    "Map.addLayer(dsm_precition, vis, \"DSM Prediction\")\n",
    "Map.addLayer(dtm_precition, vis, \"DTM Prediction\")\n",
    "Map.addLayer(srtm_precition, vis, \"SRTM Prediction\")\n",
    "\n",
    "Map.centerObject(aoi, 8)\n",
    "\n",
    "Map"
   ]
  },
  {
   "cell_type": "code",
   "execution_count": 19,
   "metadata": {},
   "outputs": [
    {
     "data": {
      "text/html": [
       "\n",
       "            <style>\n",
       "                .geemap-dark {\n",
       "                    --jp-widgets-color: white;\n",
       "                    --jp-widgets-label-color: white;\n",
       "                    --jp-ui-font-color1: white;\n",
       "                    --jp-layout-color2: #454545;\n",
       "                    background-color: #383838;\n",
       "                }\n",
       "\n",
       "                .geemap-dark .jupyter-button {\n",
       "                    --jp-layout-color3: #383838;\n",
       "                }\n",
       "\n",
       "                .geemap-colab {\n",
       "                    background-color: var(--colab-primary-surface-color, white);\n",
       "                }\n",
       "\n",
       "                .geemap-colab .jupyter-button {\n",
       "                    --jp-layout-color3: var(--colab-primary-surface-color, white);\n",
       "                }\n",
       "            </style>\n",
       "            "
      ],
      "text/plain": [
       "<IPython.core.display.HTML object>"
      ]
     },
     "metadata": {},
     "output_type": "display_data"
    },
    {
     "data": {
      "text/plain": [
       "<Task ZUQR7KELTCPUZBMU66Z7TNGO Type.EXPORT_IMAGE:  (State.UNSUBMITTED)>"
      ]
     },
     "execution_count": 19,
     "metadata": {},
     "output_type": "execute_result"
    }
   ],
   "source": [
    "BUCKET = \"eerfpl-exports\"\n",
    "\n",
    "classification_to_cloud_stroage(\n",
    "    image=dsm_precition,\n",
    "    bucket=BUCKET,\n",
    "    file_name=\"nb_lidar/exp2/dsm_predci/dsm-\",\n",
    "    region=aoi,\n",
    "    start=True,\n",
    ")\n",
    "\n",
    "classification_to_cloud_stroage(\n",
    "    image=dtm_precition,\n",
    "    bucket=BUCKET,\n",
    "    file_name=\"nb_lidar/exp2/dtm_predci/dtm-\",\n",
    "    region=aoi,\n",
    "    start=True,\n",
    ")\n",
    "\n",
    "classification_to_cloud_stroage(\n",
    "    image=srtm_precition,\n",
    "    bucket=BUCKET,\n",
    "    file_name=\"nb_lidar/exp2/srtm_predci/srtm-\",\n",
    "    region=aoi,\n",
    "    start=True,\n",
    ")"
   ]
  },
  {
   "cell_type": "code",
   "execution_count": null,
   "metadata": {},
   "outputs": [],
   "source": []
  }
 ],
 "metadata": {
  "kernelspec": {
   "display_name": "Python 3",
   "language": "python",
   "name": "python3"
  },
  "language_info": {
   "codemirror_mode": {
    "name": "ipython",
    "version": 3
   },
   "file_extension": ".py",
   "mimetype": "text/x-python",
   "name": "python",
   "nbconvert_exporter": "python",
   "pygments_lexer": "ipython3",
   "version": "3.11.9"
  }
 },
 "nbformat": 4,
 "nbformat_minor": 2
}
