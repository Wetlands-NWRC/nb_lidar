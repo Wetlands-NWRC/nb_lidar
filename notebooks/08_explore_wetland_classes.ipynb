{
 "cells": [
  {
   "cell_type": "code",
   "execution_count": 16,
   "metadata": {},
   "outputs": [],
   "source": [
    "import geopandas as gpd\n",
    "import pandas as pd"
   ]
  },
  {
   "cell_type": "code",
   "execution_count": 17,
   "metadata": {},
   "outputs": [],
   "source": [
    "file_name = r\"C:\\Users\\rhamilton\\LiDAR\\working\\[06]-gdb\\nb.gdb\"\n",
    "layer = \"nb_south_train_subset\"\n",
    "gdf = gpd.read_file(file_name, layer=layer, driver=\"FileGDB\")"
   ]
  },
  {
   "cell_type": "code",
   "execution_count": 18,
   "metadata": {},
   "outputs": [
    {
     "data": {
      "text/html": [
       "<div>\n",
       "<style scoped>\n",
       "    .dataframe tbody tr th:only-of-type {\n",
       "        vertical-align: middle;\n",
       "    }\n",
       "\n",
       "    .dataframe tbody tr th {\n",
       "        vertical-align: top;\n",
       "    }\n",
       "\n",
       "    .dataframe thead th {\n",
       "        text-align: right;\n",
       "    }\n",
       "</style>\n",
       "<table border=\"1\" class=\"dataframe\">\n",
       "  <thead>\n",
       "    <tr style=\"text-align: right;\">\n",
       "      <th></th>\n",
       "      <th>class_name</th>\n",
       "      <th>eco_region</th>\n",
       "      <th>geometry</th>\n",
       "    </tr>\n",
       "  </thead>\n",
       "  <tbody>\n",
       "    <tr>\n",
       "      <th>0</th>\n",
       "      <td>Open water</td>\n",
       "      <td>121</td>\n",
       "      <td>POINT (2282120.928 1090781.570)</td>\n",
       "    </tr>\n",
       "    <tr>\n",
       "      <th>1</th>\n",
       "      <td>Open water</td>\n",
       "      <td>121</td>\n",
       "      <td>POINT (2280032.116 1094585.955)</td>\n",
       "    </tr>\n",
       "    <tr>\n",
       "      <th>2</th>\n",
       "      <td>Open water</td>\n",
       "      <td>121</td>\n",
       "      <td>POINT (2262984.057 1088554.152)</td>\n",
       "    </tr>\n",
       "    <tr>\n",
       "      <th>3</th>\n",
       "      <td>Open water</td>\n",
       "      <td>121</td>\n",
       "      <td>POINT (2203301.426 1138927.607)</td>\n",
       "    </tr>\n",
       "    <tr>\n",
       "      <th>4</th>\n",
       "      <td>Open water</td>\n",
       "      <td>121</td>\n",
       "      <td>POINT (2271986.798 1080146.534)</td>\n",
       "    </tr>\n",
       "  </tbody>\n",
       "</table>\n",
       "</div>"
      ],
      "text/plain": [
       "   class_name  eco_region                         geometry\n",
       "0  Open water         121  POINT (2282120.928 1090781.570)\n",
       "1  Open water         121  POINT (2280032.116 1094585.955)\n",
       "2  Open water         121  POINT (2262984.057 1088554.152)\n",
       "3  Open water         121  POINT (2203301.426 1138927.607)\n",
       "4  Open water         121  POINT (2271986.798 1080146.534)"
      ]
     },
     "execution_count": 18,
     "metadata": {},
     "output_type": "execute_result"
    }
   ],
   "source": [
    "gdf.head()"
   ]
  },
  {
   "cell_type": "code",
   "execution_count": 19,
   "metadata": {},
   "outputs": [
    {
     "data": {
      "text/html": [
       "<div>\n",
       "<style scoped>\n",
       "    .dataframe tbody tr th:only-of-type {\n",
       "        vertical-align: middle;\n",
       "    }\n",
       "\n",
       "    .dataframe tbody tr th {\n",
       "        vertical-align: top;\n",
       "    }\n",
       "\n",
       "    .dataframe thead th {\n",
       "        text-align: right;\n",
       "    }\n",
       "</style>\n",
       "<table border=\"1\" class=\"dataframe\">\n",
       "  <thead>\n",
       "    <tr style=\"text-align: right;\">\n",
       "      <th></th>\n",
       "      <th>class_name</th>\n",
       "      <th>eco_region</th>\n",
       "      <th>geometry</th>\n",
       "    </tr>\n",
       "  </thead>\n",
       "  <tbody>\n",
       "    <tr>\n",
       "      <th>1991</th>\n",
       "      <td>Bog</td>\n",
       "      <td>121</td>\n",
       "      <td>POINT (2331726.572 1145821.905)</td>\n",
       "    </tr>\n",
       "    <tr>\n",
       "      <th>4595</th>\n",
       "      <td>Bog</td>\n",
       "      <td>122</td>\n",
       "      <td>POINT (2246024.863 1190900.611)</td>\n",
       "    </tr>\n",
       "    <tr>\n",
       "      <th>4594</th>\n",
       "      <td>Bog</td>\n",
       "      <td>122</td>\n",
       "      <td>POINT (2269285.217 1222886.568)</td>\n",
       "    </tr>\n",
       "    <tr>\n",
       "      <th>4593</th>\n",
       "      <td>Bog</td>\n",
       "      <td>122</td>\n",
       "      <td>POINT (2242953.246 1093873.249)</td>\n",
       "    </tr>\n",
       "    <tr>\n",
       "      <th>4592</th>\n",
       "      <td>Bog</td>\n",
       "      <td>122</td>\n",
       "      <td>POINT (2291245.763 1178796.549)</td>\n",
       "    </tr>\n",
       "  </tbody>\n",
       "</table>\n",
       "</div>"
      ],
      "text/plain": [
       "     class_name  eco_region                         geometry\n",
       "1991        Bog         121  POINT (2331726.572 1145821.905)\n",
       "4595        Bog         122  POINT (2246024.863 1190900.611)\n",
       "4594        Bog         122  POINT (2269285.217 1222886.568)\n",
       "4593        Bog         122  POINT (2242953.246 1093873.249)\n",
       "4592        Bog         122  POINT (2291245.763 1178796.549)"
      ]
     },
     "execution_count": 19,
     "metadata": {},
     "output_type": "execute_result"
    }
   ],
   "source": [
    "wetland_classes = [\n",
    "    \"Shallow water\",\n",
    "    \"Swamp\",\n",
    "    \"Fen\",\n",
    "    \"Marsh\",\n",
    "    \"Bog\",\n",
    "    \"Salt marsh\",\n",
    "]\n",
    "\n",
    "# isolate just the wetland classes\n",
    "gdf = gdf[gdf['class_name'].isin(wetland_classes)]\n",
    "gdf.sort_values(by='class_name', inplace=True)\n",
    "gdf.head()"
   ]
  },
  {
   "cell_type": "code",
   "execution_count": 20,
   "metadata": {},
   "outputs": [
    {
     "data": {
      "text/plain": [
       "class_name\n",
       "Fen              1227\n",
       "Shallow water    1177\n",
       "Bog              1103\n",
       "Swamp            1074\n",
       "Salt marsh        969\n",
       "Marsh             964\n",
       "Name: count, dtype: int64"
      ]
     },
     "execution_count": 20,
     "metadata": {},
     "output_type": "execute_result"
    }
   ],
   "source": [
    "freq = gdf['class_name'].value_counts()\n",
    "freq"
   ]
  },
  {
   "cell_type": "code",
   "execution_count": 21,
   "metadata": {},
   "outputs": [
    {
     "name": "stdout",
     "output_type": "stream",
     "text": [
      "DF is greater than n\n",
      "DF is greater than n\n",
      "DF is greater than n\n",
      "DF is greater than n\n",
      "DF is greater than n\n",
      "DF is greater than n\n"
     ]
    }
   ],
   "source": [
    "n = round(freq.min() / 10) * 10\n",
    "dfs = []\n",
    "for _, df in gdf.groupby(\"class_name\"):\n",
    "    if len(df) > n:\n",
    "        print(\"DF is greater than n\")\n",
    "        dfs.append(df.sample(n))\n",
    "    else:\n",
    "        dfs.append(df)\n",
    "\n",
    "gdf = pd.concat(dfs, ignore_index=True)"
   ]
  },
  {
   "cell_type": "code",
   "execution_count": 22,
   "metadata": {},
   "outputs": [
    {
     "data": {
      "text/plain": [
       "class_name\n",
       "Bog              960\n",
       "Fen              960\n",
       "Marsh            960\n",
       "Salt marsh       960\n",
       "Shallow water    960\n",
       "Swamp            960\n",
       "Name: count, dtype: int64"
      ]
     },
     "execution_count": 22,
     "metadata": {},
     "output_type": "execute_result"
    }
   ],
   "source": [
    "gdf[\"class_name\"].value_counts()"
   ]
  },
  {
   "cell_type": "code",
   "execution_count": 23,
   "metadata": {},
   "outputs": [
    {
     "data": {
      "text/html": [
       "<div>\n",
       "<style scoped>\n",
       "    .dataframe tbody tr th:only-of-type {\n",
       "        vertical-align: middle;\n",
       "    }\n",
       "\n",
       "    .dataframe tbody tr th {\n",
       "        vertical-align: top;\n",
       "    }\n",
       "\n",
       "    .dataframe thead th {\n",
       "        text-align: right;\n",
       "    }\n",
       "</style>\n",
       "<table border=\"1\" class=\"dataframe\">\n",
       "  <thead>\n",
       "    <tr style=\"text-align: right;\">\n",
       "      <th></th>\n",
       "      <th>class_name</th>\n",
       "      <th>eco_region</th>\n",
       "      <th>geometry</th>\n",
       "    </tr>\n",
       "  </thead>\n",
       "  <tbody>\n",
       "    <tr>\n",
       "      <th>0</th>\n",
       "      <td>1</td>\n",
       "      <td>121</td>\n",
       "      <td>POINT (2245243.699 1068153.373)</td>\n",
       "    </tr>\n",
       "    <tr>\n",
       "      <th>1</th>\n",
       "      <td>1</td>\n",
       "      <td>123</td>\n",
       "      <td>POINT (2275144.188 1067268.690)</td>\n",
       "    </tr>\n",
       "    <tr>\n",
       "      <th>2</th>\n",
       "      <td>1</td>\n",
       "      <td>123</td>\n",
       "      <td>POINT (2286713.736 1071089.231)</td>\n",
       "    </tr>\n",
       "    <tr>\n",
       "      <th>3</th>\n",
       "      <td>1</td>\n",
       "      <td>123</td>\n",
       "      <td>POINT (2291317.029 1078779.172)</td>\n",
       "    </tr>\n",
       "    <tr>\n",
       "      <th>4</th>\n",
       "      <td>1</td>\n",
       "      <td>123</td>\n",
       "      <td>POINT (2288253.939 1071437.433)</td>\n",
       "    </tr>\n",
       "  </tbody>\n",
       "</table>\n",
       "</div>"
      ],
      "text/plain": [
       "   class_name  eco_region                         geometry\n",
       "0           1         121  POINT (2245243.699 1068153.373)\n",
       "1           1         123  POINT (2275144.188 1067268.690)\n",
       "2           1         123  POINT (2286713.736 1071089.231)\n",
       "3           1         123  POINT (2291317.029 1078779.172)\n",
       "4           1         123  POINT (2288253.939 1071437.433)"
      ]
     },
     "execution_count": 23,
     "metadata": {},
     "output_type": "execute_result"
    }
   ],
   "source": [
    "labels = gdf[\"class_name\"].unique().tolist()\n",
    "values = {v: k for k, v in enumerate(labels, start=1)}\n",
    "\n",
    "gdf[\"class_name\"] = gdf[\"class_name\"].map(values)\n",
    "gdf.sort_values(by=\"class_name\", inplace=True, ignore_index=True)\n",
    "gdf.head()"
   ]
  },
  {
   "cell_type": "code",
   "execution_count": 24,
   "metadata": {},
   "outputs": [],
   "source": [
    "import numpy as np\n",
    "\n",
    "n = len(gdf)\n",
    "low = 0\n",
    "high = 1\n",
    "\n",
    "uniform_dist = np.random.uniform(low, high, n)\n",
    "gdf = gdf.assign(random=uniform_dist)"
   ]
  },
  {
   "cell_type": "code",
   "execution_count": 25,
   "metadata": {},
   "outputs": [
    {
     "data": {
      "text/html": [
       "<div>\n",
       "<style scoped>\n",
       "    .dataframe tbody tr th:only-of-type {\n",
       "        vertical-align: middle;\n",
       "    }\n",
       "\n",
       "    .dataframe tbody tr th {\n",
       "        vertical-align: top;\n",
       "    }\n",
       "\n",
       "    .dataframe thead th {\n",
       "        text-align: right;\n",
       "    }\n",
       "</style>\n",
       "<table border=\"1\" class=\"dataframe\">\n",
       "  <thead>\n",
       "    <tr style=\"text-align: right;\">\n",
       "      <th></th>\n",
       "      <th>class_name</th>\n",
       "      <th>random</th>\n",
       "      <th>geometry</th>\n",
       "    </tr>\n",
       "  </thead>\n",
       "  <tbody>\n",
       "    <tr>\n",
       "      <th>0</th>\n",
       "      <td>1</td>\n",
       "      <td>0.544263</td>\n",
       "      <td>POINT (2245243.699 1068153.373)</td>\n",
       "    </tr>\n",
       "    <tr>\n",
       "      <th>1</th>\n",
       "      <td>1</td>\n",
       "      <td>0.769209</td>\n",
       "      <td>POINT (2275144.188 1067268.690)</td>\n",
       "    </tr>\n",
       "    <tr>\n",
       "      <th>2</th>\n",
       "      <td>1</td>\n",
       "      <td>0.303008</td>\n",
       "      <td>POINT (2286713.736 1071089.231)</td>\n",
       "    </tr>\n",
       "    <tr>\n",
       "      <th>3</th>\n",
       "      <td>1</td>\n",
       "      <td>0.251294</td>\n",
       "      <td>POINT (2291317.029 1078779.172)</td>\n",
       "    </tr>\n",
       "    <tr>\n",
       "      <th>4</th>\n",
       "      <td>1</td>\n",
       "      <td>0.955502</td>\n",
       "      <td>POINT (2288253.939 1071437.433)</td>\n",
       "    </tr>\n",
       "    <tr>\n",
       "      <th>...</th>\n",
       "      <td>...</td>\n",
       "      <td>...</td>\n",
       "      <td>...</td>\n",
       "    </tr>\n",
       "    <tr>\n",
       "      <th>5755</th>\n",
       "      <td>6</td>\n",
       "      <td>0.365064</td>\n",
       "      <td>POINT (2269546.093 1081095.723)</td>\n",
       "    </tr>\n",
       "    <tr>\n",
       "      <th>5756</th>\n",
       "      <td>6</td>\n",
       "      <td>0.252724</td>\n",
       "      <td>POINT (2332198.305 1115512.637)</td>\n",
       "    </tr>\n",
       "    <tr>\n",
       "      <th>5757</th>\n",
       "      <td>6</td>\n",
       "      <td>0.771156</td>\n",
       "      <td>POINT (2277081.693 1225907.050)</td>\n",
       "    </tr>\n",
       "    <tr>\n",
       "      <th>5758</th>\n",
       "      <td>6</td>\n",
       "      <td>0.674995</td>\n",
       "      <td>POINT (2276425.207 1175277.342)</td>\n",
       "    </tr>\n",
       "    <tr>\n",
       "      <th>5759</th>\n",
       "      <td>6</td>\n",
       "      <td>0.853439</td>\n",
       "      <td>POINT (2288699.437 1072649.785)</td>\n",
       "    </tr>\n",
       "  </tbody>\n",
       "</table>\n",
       "<p>5760 rows × 3 columns</p>\n",
       "</div>"
      ],
      "text/plain": [
       "      class_name    random                         geometry\n",
       "0              1  0.544263  POINT (2245243.699 1068153.373)\n",
       "1              1  0.769209  POINT (2275144.188 1067268.690)\n",
       "2              1  0.303008  POINT (2286713.736 1071089.231)\n",
       "3              1  0.251294  POINT (2291317.029 1078779.172)\n",
       "4              1  0.955502  POINT (2288253.939 1071437.433)\n",
       "...          ...       ...                              ...\n",
       "5755           6  0.365064  POINT (2269546.093 1081095.723)\n",
       "5756           6  0.252724  POINT (2332198.305 1115512.637)\n",
       "5757           6  0.771156  POINT (2277081.693 1225907.050)\n",
       "5758           6  0.674995  POINT (2276425.207 1175277.342)\n",
       "5759           6  0.853439  POINT (2288699.437 1072649.785)\n",
       "\n",
       "[5760 rows x 3 columns]"
      ]
     },
     "execution_count": 25,
     "metadata": {},
     "output_type": "execute_result"
    }
   ],
   "source": [
    "# write out a shapefile in processed data/processed\n",
    "gdf = gdf[[\"class_name\", \"random\", \"geometry\"]]\n",
    "gdf"
   ]
  },
  {
   "cell_type": "code",
   "execution_count": 26,
   "metadata": {},
   "outputs": [],
   "source": [
    "from pathlib import Path\n",
    "\n",
    "interm = Path(\".\").absolute().parent / \"data/interim\"\n",
    "\n",
    "out_file_name = interm / \"nb_south_wetland_only_class_bal.shp\"\n",
    "\n",
    "gdf.to_file(out_file_name, driver=\"ESRI Shapefile\")"
   ]
  },
  {
   "cell_type": "code",
   "execution_count": 27,
   "metadata": {},
   "outputs": [],
   "source": [
    "from zipfile import ZipFile\n",
    "\n",
    "\n",
    "processed = Path(\".\").absolute().parent / \"data/processed\"\n",
    "zip_file_name = processed / \"wetland_only.zip\"\n",
    "\n",
    "files = interm.glob(\"nb_south_wetland_only_class_bal.*\")\n",
    "\n",
    "\n",
    "with ZipFile(zip_file_name, \"w\") as zipf:\n",
    "    for file in files:\n",
    "        zipf.write(file, arcname=file.name)"
   ]
  },
  {
   "cell_type": "code",
   "execution_count": null,
   "metadata": {},
   "outputs": [],
   "source": []
  }
 ],
 "metadata": {
  "kernelspec": {
   "display_name": "Python 3",
   "language": "python",
   "name": "python3"
  },
  "language_info": {
   "codemirror_mode": {
    "name": "ipython",
    "version": 3
   },
   "file_extension": ".py",
   "mimetype": "text/x-python",
   "name": "python",
   "nbconvert_exporter": "python",
   "pygments_lexer": "ipython3",
   "version": "3.11.9"
  }
 },
 "nbformat": 4,
 "nbformat_minor": 2
}
