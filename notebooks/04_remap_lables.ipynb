{
 "cells": [
  {
   "cell_type": "code",
   "execution_count": 1,
   "metadata": {},
   "outputs": [],
   "source": [
    "import geopandas as gpd\n",
    "import pandas as pd"
   ]
  },
  {
   "cell_type": "code",
   "execution_count": 2,
   "metadata": {},
   "outputs": [],
   "source": [
    "file_name = r\"C:\\Users\\rhamilton\\LiDAR\\working\\[06]-gdb\\nb.gdb\"\n",
    "layer = \"nb_south_train_subset\"\n",
    "gdf = gpd.read_file(file_name, layer=layer, driver=\"FileGDB\")"
   ]
  },
  {
   "cell_type": "code",
   "execution_count": 3,
   "metadata": {},
   "outputs": [
    {
     "data": {
      "text/html": [
       "<div>\n",
       "<style scoped>\n",
       "    .dataframe tbody tr th:only-of-type {\n",
       "        vertical-align: middle;\n",
       "    }\n",
       "\n",
       "    .dataframe tbody tr th {\n",
       "        vertical-align: top;\n",
       "    }\n",
       "\n",
       "    .dataframe thead th {\n",
       "        text-align: right;\n",
       "    }\n",
       "</style>\n",
       "<table border=\"1\" class=\"dataframe\">\n",
       "  <thead>\n",
       "    <tr style=\"text-align: right;\">\n",
       "      <th></th>\n",
       "      <th>class_name</th>\n",
       "      <th>eco_region</th>\n",
       "      <th>geometry</th>\n",
       "    </tr>\n",
       "  </thead>\n",
       "  <tbody>\n",
       "    <tr>\n",
       "      <th>0</th>\n",
       "      <td>Open water</td>\n",
       "      <td>121</td>\n",
       "      <td>POINT (2282120.928 1090781.570)</td>\n",
       "    </tr>\n",
       "    <tr>\n",
       "      <th>1</th>\n",
       "      <td>Open water</td>\n",
       "      <td>121</td>\n",
       "      <td>POINT (2280032.116 1094585.955)</td>\n",
       "    </tr>\n",
       "    <tr>\n",
       "      <th>2</th>\n",
       "      <td>Open water</td>\n",
       "      <td>121</td>\n",
       "      <td>POINT (2262984.057 1088554.152)</td>\n",
       "    </tr>\n",
       "    <tr>\n",
       "      <th>3</th>\n",
       "      <td>Open water</td>\n",
       "      <td>121</td>\n",
       "      <td>POINT (2203301.426 1138927.607)</td>\n",
       "    </tr>\n",
       "    <tr>\n",
       "      <th>4</th>\n",
       "      <td>Open water</td>\n",
       "      <td>121</td>\n",
       "      <td>POINT (2271986.798 1080146.534)</td>\n",
       "    </tr>\n",
       "  </tbody>\n",
       "</table>\n",
       "</div>"
      ],
      "text/plain": [
       "   class_name  eco_region                         geometry\n",
       "0  Open water         121  POINT (2282120.928 1090781.570)\n",
       "1  Open water         121  POINT (2280032.116 1094585.955)\n",
       "2  Open water         121  POINT (2262984.057 1088554.152)\n",
       "3  Open water         121  POINT (2203301.426 1138927.607)\n",
       "4  Open water         121  POINT (2271986.798 1080146.534)"
      ]
     },
     "execution_count": 3,
     "metadata": {},
     "output_type": "execute_result"
    }
   ],
   "source": [
    "gdf.head()"
   ]
  },
  {
   "cell_type": "code",
   "execution_count": 4,
   "metadata": {},
   "outputs": [
    {
     "data": {
      "text/plain": [
       "array(['Open water', 'Shallow water', 'Swamp', 'Fen', 'Marsh', 'Bog',\n",
       "       'Salt marsh', 'Upland'], dtype=object)"
      ]
     },
     "execution_count": 4,
     "metadata": {},
     "output_type": "execute_result"
    }
   ],
   "source": [
    "gdf.class_name.unique()"
   ]
  },
  {
   "cell_type": "code",
   "execution_count": 5,
   "metadata": {},
   "outputs": [
    {
     "data": {
      "text/html": [
       "<div>\n",
       "<style scoped>\n",
       "    .dataframe tbody tr th:only-of-type {\n",
       "        vertical-align: middle;\n",
       "    }\n",
       "\n",
       "    .dataframe tbody tr th {\n",
       "        vertical-align: top;\n",
       "    }\n",
       "\n",
       "    .dataframe thead th {\n",
       "        text-align: right;\n",
       "    }\n",
       "</style>\n",
       "<table border=\"1\" class=\"dataframe\">\n",
       "  <thead>\n",
       "    <tr style=\"text-align: right;\">\n",
       "      <th></th>\n",
       "      <th>class_name</th>\n",
       "      <th>eco_region</th>\n",
       "      <th>geometry</th>\n",
       "    </tr>\n",
       "  </thead>\n",
       "  <tbody>\n",
       "    <tr>\n",
       "      <th>0</th>\n",
       "      <td>water</td>\n",
       "      <td>121</td>\n",
       "      <td>POINT (2282120.928 1090781.570)</td>\n",
       "    </tr>\n",
       "    <tr>\n",
       "      <th>1</th>\n",
       "      <td>water</td>\n",
       "      <td>121</td>\n",
       "      <td>POINT (2280032.116 1094585.955)</td>\n",
       "    </tr>\n",
       "    <tr>\n",
       "      <th>2</th>\n",
       "      <td>water</td>\n",
       "      <td>121</td>\n",
       "      <td>POINT (2262984.057 1088554.152)</td>\n",
       "    </tr>\n",
       "    <tr>\n",
       "      <th>3</th>\n",
       "      <td>water</td>\n",
       "      <td>121</td>\n",
       "      <td>POINT (2203301.426 1138927.607)</td>\n",
       "    </tr>\n",
       "    <tr>\n",
       "      <th>4</th>\n",
       "      <td>water</td>\n",
       "      <td>121</td>\n",
       "      <td>POINT (2271986.798 1080146.534)</td>\n",
       "    </tr>\n",
       "  </tbody>\n",
       "</table>\n",
       "</div>"
      ],
      "text/plain": [
       "  class_name  eco_region                         geometry\n",
       "0      water         121  POINT (2282120.928 1090781.570)\n",
       "1      water         121  POINT (2280032.116 1094585.955)\n",
       "2      water         121  POINT (2262984.057 1088554.152)\n",
       "3      water         121  POINT (2203301.426 1138927.607)\n",
       "4      water         121  POINT (2271986.798 1080146.534)"
      ]
     },
     "execution_count": 5,
     "metadata": {},
     "output_type": "execute_result"
    }
   ],
   "source": [
    "mapping = {\n",
    "    \"Open water\": \"water\",\n",
    "    \"Shallow water\": \"wetland\",\n",
    "    \"Swamp\": \"wetland\",\n",
    "    \"Fen\": \"wetland\",\n",
    "    \"Marsh\": \"wetland\",\n",
    "    \"Bog\": \"wetland\",\n",
    "    \"Salt marsh\": \"wetland\",\n",
    "    \"Upland\": \"non_wetland\",\n",
    "}\n",
    "\n",
    "gdf[\"class_name\"] = gdf[\"class_name\"].map(mapping)\n",
    "gdf.head()"
   ]
  },
  {
   "cell_type": "code",
   "execution_count": 6,
   "metadata": {},
   "outputs": [
    {
     "data": {
      "text/plain": [
       "class_name\n",
       "wetland        6514\n",
       "non_wetland    1174\n",
       "water           879\n",
       "Name: count, dtype: int64"
      ]
     },
     "execution_count": 6,
     "metadata": {},
     "output_type": "execute_result"
    }
   ],
   "source": [
    "gdf[\"class_name\"].value_counts()"
   ]
  },
  {
   "cell_type": "code",
   "execution_count": 7,
   "metadata": {},
   "outputs": [
    {
     "name": "stdout",
     "output_type": "stream",
     "text": [
      "DF is greater than n\n",
      "DF is greater than n\n",
      "DF is greater than n\n"
     ]
    }
   ],
   "source": [
    "n = 870\n",
    "dfs = []\n",
    "for _, df in gdf.groupby(\"class_name\"):\n",
    "    if len(df) > n:\n",
    "        print(\"DF is greater than n\")\n",
    "        dfs.append(df.sample(n))\n",
    "    else:\n",
    "        dfs.append(df)"
   ]
  },
  {
   "cell_type": "code",
   "execution_count": 8,
   "metadata": {},
   "outputs": [
    {
     "data": {
      "text/html": [
       "<div>\n",
       "<style scoped>\n",
       "    .dataframe tbody tr th:only-of-type {\n",
       "        vertical-align: middle;\n",
       "    }\n",
       "\n",
       "    .dataframe tbody tr th {\n",
       "        vertical-align: top;\n",
       "    }\n",
       "\n",
       "    .dataframe thead th {\n",
       "        text-align: right;\n",
       "    }\n",
       "</style>\n",
       "<table border=\"1\" class=\"dataframe\">\n",
       "  <thead>\n",
       "    <tr style=\"text-align: right;\">\n",
       "      <th></th>\n",
       "      <th>class_name</th>\n",
       "      <th>eco_region</th>\n",
       "      <th>geometry</th>\n",
       "    </tr>\n",
       "  </thead>\n",
       "  <tbody>\n",
       "    <tr>\n",
       "      <th>0</th>\n",
       "      <td>non_wetland</td>\n",
       "      <td>122</td>\n",
       "      <td>POINT (2253675.865 1103145.791)</td>\n",
       "    </tr>\n",
       "    <tr>\n",
       "      <th>1</th>\n",
       "      <td>non_wetland</td>\n",
       "      <td>123</td>\n",
       "      <td>POINT (2332192.988 1136079.591)</td>\n",
       "    </tr>\n",
       "    <tr>\n",
       "      <th>2</th>\n",
       "      <td>non_wetland</td>\n",
       "      <td>123</td>\n",
       "      <td>POINT (2316045.200 1099326.497)</td>\n",
       "    </tr>\n",
       "    <tr>\n",
       "      <th>3</th>\n",
       "      <td>non_wetland</td>\n",
       "      <td>123</td>\n",
       "      <td>POINT (2315951.095 1098561.036)</td>\n",
       "    </tr>\n",
       "    <tr>\n",
       "      <th>4</th>\n",
       "      <td>non_wetland</td>\n",
       "      <td>123</td>\n",
       "      <td>POINT (2324592.661 1117987.396)</td>\n",
       "    </tr>\n",
       "    <tr>\n",
       "      <th>...</th>\n",
       "      <td>...</td>\n",
       "      <td>...</td>\n",
       "      <td>...</td>\n",
       "    </tr>\n",
       "    <tr>\n",
       "      <th>2605</th>\n",
       "      <td>wetland</td>\n",
       "      <td>122</td>\n",
       "      <td>POINT (2242953.246 1093873.249)</td>\n",
       "    </tr>\n",
       "    <tr>\n",
       "      <th>2606</th>\n",
       "      <td>wetland</td>\n",
       "      <td>123</td>\n",
       "      <td>POINT (2273574.684 1065671.153)</td>\n",
       "    </tr>\n",
       "    <tr>\n",
       "      <th>2607</th>\n",
       "      <td>wetland</td>\n",
       "      <td>123</td>\n",
       "      <td>POINT (2288194.157 1075320.951)</td>\n",
       "    </tr>\n",
       "    <tr>\n",
       "      <th>2608</th>\n",
       "      <td>wetland</td>\n",
       "      <td>121</td>\n",
       "      <td>POINT (2212497.119 1113323.670)</td>\n",
       "    </tr>\n",
       "    <tr>\n",
       "      <th>2609</th>\n",
       "      <td>wetland</td>\n",
       "      <td>123</td>\n",
       "      <td>POINT (2272364.345 1066001.652)</td>\n",
       "    </tr>\n",
       "  </tbody>\n",
       "</table>\n",
       "<p>2610 rows × 3 columns</p>\n",
       "</div>"
      ],
      "text/plain": [
       "       class_name  eco_region                         geometry\n",
       "0     non_wetland         122  POINT (2253675.865 1103145.791)\n",
       "1     non_wetland         123  POINT (2332192.988 1136079.591)\n",
       "2     non_wetland         123  POINT (2316045.200 1099326.497)\n",
       "3     non_wetland         123  POINT (2315951.095 1098561.036)\n",
       "4     non_wetland         123  POINT (2324592.661 1117987.396)\n",
       "...           ...         ...                              ...\n",
       "2605      wetland         122  POINT (2242953.246 1093873.249)\n",
       "2606      wetland         123  POINT (2273574.684 1065671.153)\n",
       "2607      wetland         123  POINT (2288194.157 1075320.951)\n",
       "2608      wetland         121  POINT (2212497.119 1113323.670)\n",
       "2609      wetland         123  POINT (2272364.345 1066001.652)\n",
       "\n",
       "[2610 rows x 3 columns]"
      ]
     },
     "execution_count": 8,
     "metadata": {},
     "output_type": "execute_result"
    }
   ],
   "source": [
    "gdf = pd.concat(dfs, ignore_index=True)\n",
    "gdf"
   ]
  },
  {
   "cell_type": "code",
   "execution_count": 9,
   "metadata": {},
   "outputs": [
    {
     "data": {
      "text/plain": [
       "class_name\n",
       "non_wetland    870\n",
       "water          870\n",
       "wetland        870\n",
       "Name: count, dtype: int64"
      ]
     },
     "execution_count": 9,
     "metadata": {},
     "output_type": "execute_result"
    }
   ],
   "source": [
    "gdf[\"class_name\"].value_counts()"
   ]
  },
  {
   "cell_type": "code",
   "execution_count": 10,
   "metadata": {},
   "outputs": [
    {
     "data": {
      "text/plain": [
       "['non_wetland', 'water', 'wetland']"
      ]
     },
     "execution_count": 10,
     "metadata": {},
     "output_type": "execute_result"
    }
   ],
   "source": [
    "labels = gdf[\"class_name\"].unique().tolist()\n",
    "labels.sort()\n",
    "labels"
   ]
  },
  {
   "cell_type": "code",
   "execution_count": 11,
   "metadata": {},
   "outputs": [
    {
     "data": {
      "text/plain": [
       "{'non_wetland': 1, 'water': 2, 'wetland': 3}"
      ]
     },
     "execution_count": 11,
     "metadata": {},
     "output_type": "execute_result"
    }
   ],
   "source": [
    "import json\n",
    "\n",
    "values = {v: k for k, v in enumerate(labels, start=1)}\n",
    "values"
   ]
  },
  {
   "cell_type": "code",
   "execution_count": 12,
   "metadata": {},
   "outputs": [
    {
     "data": {
      "text/html": [
       "<div>\n",
       "<style scoped>\n",
       "    .dataframe tbody tr th:only-of-type {\n",
       "        vertical-align: middle;\n",
       "    }\n",
       "\n",
       "    .dataframe tbody tr th {\n",
       "        vertical-align: top;\n",
       "    }\n",
       "\n",
       "    .dataframe thead th {\n",
       "        text-align: right;\n",
       "    }\n",
       "</style>\n",
       "<table border=\"1\" class=\"dataframe\">\n",
       "  <thead>\n",
       "    <tr style=\"text-align: right;\">\n",
       "      <th></th>\n",
       "      <th>class_name</th>\n",
       "      <th>eco_region</th>\n",
       "      <th>geometry</th>\n",
       "    </tr>\n",
       "  </thead>\n",
       "  <tbody>\n",
       "    <tr>\n",
       "      <th>0</th>\n",
       "      <td>1</td>\n",
       "      <td>122</td>\n",
       "      <td>POINT (2253675.865 1103145.791)</td>\n",
       "    </tr>\n",
       "    <tr>\n",
       "      <th>1</th>\n",
       "      <td>1</td>\n",
       "      <td>122</td>\n",
       "      <td>POINT (2214022.512 1162464.506)</td>\n",
       "    </tr>\n",
       "    <tr>\n",
       "      <th>2</th>\n",
       "      <td>1</td>\n",
       "      <td>123</td>\n",
       "      <td>POINT (2324040.243 1116636.062)</td>\n",
       "    </tr>\n",
       "    <tr>\n",
       "      <th>3</th>\n",
       "      <td>1</td>\n",
       "      <td>123</td>\n",
       "      <td>POINT (2324377.382 1118172.868)</td>\n",
       "    </tr>\n",
       "    <tr>\n",
       "      <th>4</th>\n",
       "      <td>1</td>\n",
       "      <td>121</td>\n",
       "      <td>POINT (2215932.595 1119426.371)</td>\n",
       "    </tr>\n",
       "  </tbody>\n",
       "</table>\n",
       "</div>"
      ],
      "text/plain": [
       "   class_name  eco_region                         geometry\n",
       "0           1         122  POINT (2253675.865 1103145.791)\n",
       "1           1         122  POINT (2214022.512 1162464.506)\n",
       "2           1         123  POINT (2324040.243 1116636.062)\n",
       "3           1         123  POINT (2324377.382 1118172.868)\n",
       "4           1         121  POINT (2215932.595 1119426.371)"
      ]
     },
     "execution_count": 12,
     "metadata": {},
     "output_type": "execute_result"
    }
   ],
   "source": [
    "gdf[\"class_name\"] = gdf[\"class_name\"].map(values)\n",
    "gdf.sort_values(by=\"class_name\", inplace=True, ignore_index=True)\n",
    "gdf.head()"
   ]
  },
  {
   "cell_type": "code",
   "execution_count": 13,
   "metadata": {},
   "outputs": [],
   "source": [
    "import numpy as np\n",
    "\n",
    "n = len(gdf)\n",
    "low = 0\n",
    "high = 1\n",
    "\n",
    "uniform_dist = np.random.uniform(low, high, n)\n",
    "gdf = gdf.assign(random=uniform_dist)"
   ]
  },
  {
   "cell_type": "code",
   "execution_count": 14,
   "metadata": {},
   "outputs": [
    {
     "data": {
      "text/html": [
       "<div>\n",
       "<style scoped>\n",
       "    .dataframe tbody tr th:only-of-type {\n",
       "        vertical-align: middle;\n",
       "    }\n",
       "\n",
       "    .dataframe tbody tr th {\n",
       "        vertical-align: top;\n",
       "    }\n",
       "\n",
       "    .dataframe thead th {\n",
       "        text-align: right;\n",
       "    }\n",
       "</style>\n",
       "<table border=\"1\" class=\"dataframe\">\n",
       "  <thead>\n",
       "    <tr style=\"text-align: right;\">\n",
       "      <th></th>\n",
       "      <th>class_name</th>\n",
       "      <th>random</th>\n",
       "      <th>geometry</th>\n",
       "    </tr>\n",
       "  </thead>\n",
       "  <tbody>\n",
       "    <tr>\n",
       "      <th>0</th>\n",
       "      <td>1</td>\n",
       "      <td>0.422666</td>\n",
       "      <td>POINT (2253675.865 1103145.791)</td>\n",
       "    </tr>\n",
       "    <tr>\n",
       "      <th>1</th>\n",
       "      <td>1</td>\n",
       "      <td>0.734175</td>\n",
       "      <td>POINT (2214022.512 1162464.506)</td>\n",
       "    </tr>\n",
       "    <tr>\n",
       "      <th>2</th>\n",
       "      <td>1</td>\n",
       "      <td>0.223825</td>\n",
       "      <td>POINT (2324040.243 1116636.062)</td>\n",
       "    </tr>\n",
       "    <tr>\n",
       "      <th>3</th>\n",
       "      <td>1</td>\n",
       "      <td>0.323916</td>\n",
       "      <td>POINT (2324377.382 1118172.868)</td>\n",
       "    </tr>\n",
       "    <tr>\n",
       "      <th>4</th>\n",
       "      <td>1</td>\n",
       "      <td>0.422439</td>\n",
       "      <td>POINT (2215932.595 1119426.371)</td>\n",
       "    </tr>\n",
       "    <tr>\n",
       "      <th>...</th>\n",
       "      <td>...</td>\n",
       "      <td>...</td>\n",
       "      <td>...</td>\n",
       "    </tr>\n",
       "    <tr>\n",
       "      <th>2605</th>\n",
       "      <td>3</td>\n",
       "      <td>0.920283</td>\n",
       "      <td>POINT (2337201.747 1124249.397)</td>\n",
       "    </tr>\n",
       "    <tr>\n",
       "      <th>2606</th>\n",
       "      <td>3</td>\n",
       "      <td>0.913223</td>\n",
       "      <td>POINT (2264059.661 1073711.489)</td>\n",
       "    </tr>\n",
       "    <tr>\n",
       "      <th>2607</th>\n",
       "      <td>3</td>\n",
       "      <td>0.877566</td>\n",
       "      <td>POINT (2304429.791 1127844.292)</td>\n",
       "    </tr>\n",
       "    <tr>\n",
       "      <th>2608</th>\n",
       "      <td>3</td>\n",
       "      <td>0.685555</td>\n",
       "      <td>POINT (2324031.273 1108775.943)</td>\n",
       "    </tr>\n",
       "    <tr>\n",
       "      <th>2609</th>\n",
       "      <td>3</td>\n",
       "      <td>0.378817</td>\n",
       "      <td>POINT (2272364.345 1066001.652)</td>\n",
       "    </tr>\n",
       "  </tbody>\n",
       "</table>\n",
       "<p>2610 rows × 3 columns</p>\n",
       "</div>"
      ],
      "text/plain": [
       "      class_name    random                         geometry\n",
       "0              1  0.422666  POINT (2253675.865 1103145.791)\n",
       "1              1  0.734175  POINT (2214022.512 1162464.506)\n",
       "2              1  0.223825  POINT (2324040.243 1116636.062)\n",
       "3              1  0.323916  POINT (2324377.382 1118172.868)\n",
       "4              1  0.422439  POINT (2215932.595 1119426.371)\n",
       "...          ...       ...                              ...\n",
       "2605           3  0.920283  POINT (2337201.747 1124249.397)\n",
       "2606           3  0.913223  POINT (2264059.661 1073711.489)\n",
       "2607           3  0.877566  POINT (2304429.791 1127844.292)\n",
       "2608           3  0.685555  POINT (2324031.273 1108775.943)\n",
       "2609           3  0.378817  POINT (2272364.345 1066001.652)\n",
       "\n",
       "[2610 rows x 3 columns]"
      ]
     },
     "execution_count": 14,
     "metadata": {},
     "output_type": "execute_result"
    }
   ],
   "source": [
    "# write out a shapefile in processed data/processed\n",
    "gdf = gdf[[\"class_name\", \"random\", \"geometry\"]]\n",
    "gdf\n",
    "# write out a lookup"
   ]
  },
  {
   "cell_type": "code",
   "execution_count": 15,
   "metadata": {},
   "outputs": [],
   "source": [
    "from pathlib import Path\n",
    "\n",
    "interm = Path(\".\").absolute().parent / \"data/interim\"\n",
    "\n",
    "out_file_name = interm / \"nb_south_3_class_bal.shp\"\n",
    "\n",
    "gdf.to_file(out_file_name, driver=\"ESRI Shapefile\")"
   ]
  },
  {
   "cell_type": "code",
   "execution_count": 16,
   "metadata": {},
   "outputs": [],
   "source": [
    "from zipfile import ZipFile\n",
    "\n",
    "\n",
    "processed = Path(\".\").absolute().parent / \"data/processed\"\n",
    "zip_file_name = processed / \"nb_south_3_class_bal.zip\"\n",
    "\n",
    "files = interm.glob(\"nb_south_*\")\n",
    "\n",
    "\n",
    "with ZipFile(zip_file_name, \"w\") as zipf:\n",
    "    for file in files:\n",
    "        zipf.write(file, arcname=file.name)"
   ]
  },
  {
   "cell_type": "code",
   "execution_count": null,
   "metadata": {},
   "outputs": [],
   "source": []
  }
 ],
 "metadata": {
  "kernelspec": {
   "display_name": "Python 3",
   "language": "python",
   "name": "python3"
  },
  "language_info": {
   "codemirror_mode": {
    "name": "ipython",
    "version": 3
   },
   "file_extension": ".py",
   "mimetype": "text/x-python",
   "name": "python",
   "nbconvert_exporter": "python",
   "pygments_lexer": "ipython3",
   "version": "3.11.9"
  }
 },
 "nbformat": 4,
 "nbformat_minor": 2
}
